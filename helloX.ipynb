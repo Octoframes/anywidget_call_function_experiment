{
 "cells": [
  {
   "cell_type": "code",
   "execution_count": null,
   "metadata": {},
   "outputs": [],
   "source": [
    "import anywidget\n",
    "import traitlets\n",
    "\n",
    "class WidgetWithFunction(anywidget.AnyWidget):\n",
    "    _esm = \"\"\"\n",
    "    function setValue(my_el, model) {\n",
    "        my_el.innerHTML = `Hello ${model.get(\"_value\")}`;\n",
    "    }\n",
    "\n",
    "    export function render({ model, el }) {\n",
    "        let div = document.createElement(\"div\");\n",
    "        div.classList.add(\"my-div\");\n",
    "        el.appendChild(div);\n",
    "\n",
    "        setValue(div, model);\n",
    "\n",
    "        model.on(\"change:_value\", () => {\n",
    "            setValue(div, model);\n",
    "        });\n",
    "    }\n",
    "    \"\"\"\n",
    "    _value = traitlets.Int(4).tag(sync=True)\n",
    "\n",
    "    def set_value(self, new_value):\n",
    "        self._value = new_value\n",
    "\n",
    "w = WidgetWithFunction()\n",
    "w.set_value(42)\n",
    "w\n"
   ]
  },
  {
   "cell_type": "code",
   "execution_count": null,
   "metadata": {},
   "outputs": [],
   "source": [
    "w.set_value(2)"
   ]
  },
  {
   "cell_type": "code",
   "execution_count": null,
   "metadata": {},
   "outputs": [],
   "source": [
    "w._value = 10"
   ]
  }
 ],
 "metadata": {
  "kernelspec": {
   "display_name": ".venv",
   "language": "python",
   "name": "python3"
  },
  "language_info": {
   "codemirror_mode": {
    "name": "ipython",
    "version": 3
   },
   "file_extension": ".py",
   "mimetype": "text/x-python",
   "name": "python",
   "nbconvert_exporter": "python",
   "pygments_lexer": "ipython3",
   "version": "3.11.7"
  }
 },
 "nbformat": 4,
 "nbformat_minor": 2
}
